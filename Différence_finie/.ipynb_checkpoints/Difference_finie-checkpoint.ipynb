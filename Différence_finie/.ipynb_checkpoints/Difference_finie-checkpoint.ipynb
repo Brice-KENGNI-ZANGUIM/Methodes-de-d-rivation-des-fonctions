{
 "cells": [
  {
   "cell_type": "markdown",
   "id": "2c8d967c-e9eb-4b01-aab7-0822c124e7a8",
   "metadata": {
    "tags": []
   },
   "source": [
    "___\n",
    "### <center> <u> <h1> <strong> Calcul de la dérivée d'une fonction par Différence finie </strong> </h1> </center>\n",
    "\n",
    "<h3>\n",
    "<ul>\n",
    "<li> Dans ce notebook  nous verrons comment évaluer la dérivée d'une fonction par la méthode des diifférences finies  </li>    \n",
    "<li> L'utilisation de la méthode suppose au préalable que la fonction est discrétisée/échantillonée </li>\n",
    "    </ul>\n",
    "    </h3>\n",
    "    \n",
    "---"
   ]
  },
  {
   "cell_type": "markdown",
   "id": "30b25ddf-b695-4187-99c7-73fc4c57a009",
   "metadata": {},
   "source": [
    "<h1> <strong> A - Importatiion des modules necessaires"
   ]
  },
  {
   "cell_type": "code",
   "execution_count": 1,
   "id": "05c38305-6b03-4798-a380-846d6d57c024",
   "metadata": {},
   "outputs": [],
   "source": [
    "import numpy as np\n",
    "import matplotlib.pyplot as plt"
   ]
  },
  {
   "cell_type": "markdown",
   "id": "b94746dd-df5d-43f8-8fad-9755e7635bbd",
   "metadata": {},
   "source": [
    "<h1> <strong> B - Classe python qui gère les dérivées"
   ]
  },
  {
   "cell_type": "code",
   "execution_count": 3,
   "id": "316e903b-333a-4ef9-b629-e35b1e71c745",
   "metadata": {},
   "outputs": [],
   "source": [
    "class DifferenceFinie(  ) :\n",
    "    \"\"\"\n",
    "    DESCRIPTION : \n",
    "    ------------\n",
    "        Objet Python qui contient des méthodes permettant de calculer les dérivées d'une fonction donnée\n",
    "\n",
    "    AUTHOR : \n",
    "    --------\n",
    "        BRICE KENGNI ZANGUIM\n",
    "        kenzabri2@yahoo.com\n",
    "\n",
    "    \"\"\"\n",
    "    def __init__ ( self , function , h = 0.001 ) :\n",
    "        \"\"\"\n",
    "        DESCRIPTION : \n",
    "        ------------\n",
    "            Constructeur de la classe qui defini et construit les variables pertinentes de l'objet\n",
    "        \n",
    "        PARAMETRES : \n",
    "        -----------\n",
    "            - function : list, np.array\n",
    "                function dont la dérivée doit être évaluée\n",
    "            \n",
    "            - h : float\n",
    "                Représente le pas d'intégration de la fonction\n",
    "                    \n",
    "        OUTPUT :  None\n",
    "        ------- \n",
    "            \n",
    "        AUTHOR : \n",
    "        --------\n",
    "            BRICE KENGNI ZANGUIM\n",
    "            kenzabri2@yahoo.com\n",
    "        \n",
    "        \"\"\"\n",
    "        \n",
    "        self.function = np.array(function)\n",
    "        self.h = h\n",
    "        \n",
    "    def derivee_avant_a_1_point( self, f =None , h = None  ) :\n",
    "        \"\"\"\n",
    "        DESCRIPTION : \n",
    "        ------------\n",
    "            Calcul la dérivée d'une fonction par la méthode des différences finies en avant. La dérivée en un point est évaluée au regard d'un point suivant\n",
    "                    \n",
    "        OUTPUT :  np.array\n",
    "        ------- \n",
    "            Retourne la dérivée de la fonction\n",
    "        AUTHOR : \n",
    "        --------\n",
    "            BRICE KENGNI ZANGUIM\n",
    "            kenzabri2@yahoo.com\n",
    "        \n",
    "        \"\"\"\n",
    "        if f is not None :\n",
    "            self.function = f\n",
    "        if h is not None : \n",
    "            self.h = h\n",
    "            \n",
    "        a = ( self.function[1:] - self.function[:-1] )/self.h\n",
    "        a = list(a)\n",
    "        a.insert( len(a), 0)\n",
    "        return  np.array(a)\n",
    "    \n",
    "    def derivee_arrière_a_1_point( self, f =None , h = None  ) :\n",
    "        \"\"\"\n",
    "        DESCRIPTION : \n",
    "        ------------\n",
    "            Calcul la dérivée d'une fonction par la méthode des différences finies en avant. La dérivée en un point est évaluée au regard d'un point précédant\n",
    "        \n",
    "        OUTPUT :  np.array\n",
    "        ------- \n",
    "            Retourne la dérivée de la fonction\n",
    "        AUTHOR : \n",
    "        --------\n",
    "            BRICE KENGNI ZANGUIM\n",
    "            kenzabri2@yahoo.com\n",
    "        \n",
    "        \"\"\"\n",
    "        if f is not None :\n",
    "            self.function = f\n",
    "        if h is not None : \n",
    "            self.h = h\n",
    "            \n",
    "        a = ( self.function[1:] - self.function[:-1] )/self.h\n",
    "        a = list(a)\n",
    "        a.insert(0,0)\n",
    "        return  np.array(a)\n",
    "    \n",
    "    def derivee_centrale_a_1_point( self, , f =None , h = None   ): \n",
    "        \"\"\"\n",
    "        DESCRIPTION : \n",
    "        ------------\n",
    "            Calcul la dérivée d'une fonction par la méthode des différences finies en avant. La dérivée en un point est évaluée au regard des deux points l'entourant\n",
    "        \n",
    "        OUTPUT :  np.array\n",
    "        ------- \n",
    "            Retourne la dérivée de la fonction\n",
    "        AUTHOR : \n",
    "        --------\n",
    "            BRICE KENGNI ZANGUIM\n",
    "            kenzabri2@yahoo.com\n",
    "        \n",
    "        \"\"\"\n",
    "        if f is not None :\n",
    "            self.function = f\n",
    "        if h is not None : \n",
    "            self.h = h\n",
    "            \n",
    "        a = ( self.function[2:] - self.function[:-2] )/(2*self.h)\n",
    "        a = list(a)\n",
    "        a.insert(0,0)\n",
    "        a.insert(len(a), 0)\n",
    "        return  np.array(a)"
   ]
  },
  {
   "cell_type": "code",
   "execution_count": 14,
   "id": "a8ecddfd-90bf-41ef-ac59-11153a5cb657",
   "metadata": {},
   "outputs": [
    {
     "data": {
      "text/plain": [
       "[1, 10, 2, 5, 6, 3]"
      ]
     },
     "execution_count": 14,
     "metadata": {},
     "output_type": "execute_result"
    }
   ],
   "source": [
    "a = [1,2,5,6,3]\n",
    "a.insert(1 ,10)\n",
    "a"
   ]
  },
  {
   "cell_type": "markdown",
   "id": "cfec783d-45c4-4555-ad38-68634f49f85e",
   "metadata": {},
   "source": [
    "<h1> <strong> A - Acquisition/construction du signal"
   ]
  },
  {
   "cell_type": "markdown",
   "id": "bdb330e8-485f-430b-b0ba-eb8a4274a24e",
   "metadata": {
    "jp-MarkdownHeadingCollapsed": true,
    "tags": []
   },
   "source": [
    "---\n",
    "\n",
    "- ## <strong> Authors </strong>\n",
    "\n",
    " #### <ul> <p> - <strong><a href=\"https://www.linkedin.com/in/brice-kengni-zanguim/\" target=\"_blank\">Brice KENGNI ZANGUIM :</a> </strong></p> <ul> Artificial Intelligence Engeneer at home and holds a PhD in Nano-physic. His research focused on using <strong>Machine Learning, Deep Learning, Signal Processing, Natural langage Processing, Computer Vision and so one</strong> to figure out how the world behave and impact human cognition. Brice KENGNI ZANGUIM has been working at home on mastering his own AI projects in many domains while seeking for a position in a company. </ul></ul>\n",
    "\n",
    "\n",
    "---\n",
    "\n",
    "- ## <strong> Other Contributors </strong>\n",
    "\n",
    "#### <ul>None</ul>\n",
    "\n",
    "---\n",
    "\n",
    "- ## <strong> Change Log </strong>\n",
    "\n",
    "|  Date (DD-MM-YYYY) |  Version | Changed By  |  Change Description |  Purpose  |\n",
    "|---|---|---|---|---|\n",
    "| 13- 03 - 2023 | 2.0 | Brice KENGNI ZANGUIM | Final update | Mem,save |\n",
    "|-|-|-|-|\n",
    "|   |   |   |   |   |\n",
    "\n",
    "### <h3 align=\"center\"> © BKZ Corporation 2023. All rights reserved. <h3/>\n",
    "---"
   ]
  }
 ],
 "metadata": {
  "kernelspec": {
   "display_name": "Python 3 (ipykernel)",
   "language": "python",
   "name": "python3"
  },
  "language_info": {
   "codemirror_mode": {
    "name": "ipython",
    "version": 3
   },
   "file_extension": ".py",
   "mimetype": "text/x-python",
   "name": "python",
   "nbconvert_exporter": "python",
   "pygments_lexer": "ipython3",
   "version": "3.9.15"
  },
  "widgets": {
   "application/vnd.jupyter.widget-state+json": {
    "state": {},
    "version_major": 2,
    "version_minor": 0
   }
  }
 },
 "nbformat": 4,
 "nbformat_minor": 5
}

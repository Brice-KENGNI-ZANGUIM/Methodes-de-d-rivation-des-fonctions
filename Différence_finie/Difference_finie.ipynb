{
 "cells": [
  {
   "cell_type": "markdown",
   "id": "2c8d967c-e9eb-4b01-aab7-0822c124e7a8",
   "metadata": {
    "tags": []
   },
   "source": [
    "___\n",
    "### <center> <u> <h1> <strong> Calcul de la dérivée d'une fonction par Différence finie </strong> </h1> </center>\n",
    "\n",
    "<h3>\n",
    "<ul>\n",
    "<li> Dans ce notebook  nous verrons comment évaluer la dérivée d'une fonction par la méthode des diifférences finies  </li>    \n",
    "<li> L'utilisation de la méthode suppose au préalable que la fonction est discrétisée/échantillonée </li>\n",
    "    </ul>\n",
    "    </h3>\n",
    "    \n",
    "---"
   ]
  },
  {
   "cell_type": "markdown",
   "id": "30b25ddf-b695-4187-99c7-73fc4c57a009",
   "metadata": {},
   "source": [
    "<h1> <strong> A - Importation des modules necessaires"
   ]
  },
  {
   "cell_type": "code",
   "execution_count": 1,
   "id": "05c38305-6b03-4798-a380-846d6d57c024",
   "metadata": {},
   "outputs": [],
   "source": [
    "import numpy as np\n",
    "import matplotlib.pyplot as plt"
   ]
  },
  {
   "cell_type": "markdown",
   "id": "b94746dd-df5d-43f8-8fad-9755e7635bbd",
   "metadata": {},
   "source": [
    "<h1> <strong> B - Classe python qui gère les dérivées"
   ]
  },
  {
   "cell_type": "code",
   "execution_count": 2,
   "id": "316e903b-333a-4ef9-b629-e35b1e71c745",
   "metadata": {},
   "outputs": [],
   "source": [
    "class DeriveDeFonctions(  ) :\n",
    "    \"\"\"\n",
    "    DESCRIPTION : \n",
    "    ------------\n",
    "        Objet Python qui contient des méthodes permettant de calculer les dérivées d'une fonction donnée\n",
    "\n",
    "    AUTHOR : \n",
    "    --------\n",
    "        BRICE KENGNI ZANGUIM\n",
    "        kenzabri2@yahoo.com\n",
    "\n",
    "    \"\"\"\n",
    "    def __init__ ( self , function , h ) :\n",
    "        \"\"\"\n",
    "        DESCRIPTION : \n",
    "        ------------\n",
    "            Constructeur de la classe qui defini et construit les variables pertinentes de l'objet\n",
    "        \n",
    "        PARAMETRES : \n",
    "        -----------\n",
    "            - function : list, np.array\n",
    "                function dont la dérivée doit être évaluée\n",
    "            \n",
    "            - h : float\n",
    "                Représente le pas d'intégration de la fonction\n",
    "                    \n",
    "        OUTPUT :  None\n",
    "        ------- \n",
    "            \n",
    "        AUTHOR : \n",
    "        --------\n",
    "            BRICE KENGNI ZANGUIM\n",
    "            kenzabri2@yahoo.com\n",
    "        \n",
    "        \"\"\"\n",
    "        \n",
    "        self.function = np.array(function)\n",
    "        self.h = h\n",
    "        \n",
    "    def derivee_avant_a_1_point( self, f =None , h = None  ) :\n",
    "        \"\"\"\n",
    "        DESCRIPTION : \n",
    "        ------------\n",
    "            Calcul la dérivée d'une fonction par la méthode des différences finies en avant. La dérivée en un point est évaluée au regard d'un point suivant\n",
    "                    \n",
    "        OUTPUT :  np.array\n",
    "        ------- \n",
    "            Retourne la dérivée de la fonction\n",
    "        AUTHOR : \n",
    "        --------\n",
    "            BRICE KENGNI ZANGUIM\n",
    "            kenzabri2@yahoo.com\n",
    "        \n",
    "        \"\"\"\n",
    "        if f is not None :\n",
    "            self.function = f\n",
    "        if h is not None : \n",
    "            self.h = h\n",
    "            \n",
    "        a = ( self.function[1:] - self.function[:-1] )/self.h\n",
    "        a = list(a)\n",
    "        a.insert( len(a), 2*a[-1]-a[-2])\n",
    "        return  np.array(a)\n",
    "    \n",
    "    def derivee_arrière_a_1_point( self, f =None , h = None ) :\n",
    "        \"\"\"\n",
    "        DESCRIPTION : \n",
    "        ------------\n",
    "            Calcul la dérivée d'une fonction par la méthode des différences finies en avant. La dérivée en un point est évaluée au regard d'un point précédant\n",
    "        \n",
    "        OUTPUT :  np.array\n",
    "        ------- \n",
    "            Retourne la dérivée de la fonction\n",
    "        AUTHOR : \n",
    "        --------\n",
    "            BRICE KENGNI ZANGUIM\n",
    "            kenzabri2@yahoo.com\n",
    "        \n",
    "        \"\"\"\n",
    "        if f is not None :\n",
    "            self.function = f\n",
    "        if h is not None : \n",
    "            self.h = h\n",
    "            \n",
    "        a = ( self.function[1:] - self.function[:-1] )/self.h\n",
    "        a = list(a)\n",
    "        a.insert(0, 2*a[0]-a[1] )\n",
    "        return  np.array(a)\n",
    "    \n",
    "    def derivee_centrale_a_1_point( self, f =None, h = None ): \n",
    "        \"\"\"\n",
    "        DESCRIPTION : \n",
    "        ------------\n",
    "            Calcul la dérivée d'une fonction par la méthode des différences finies en avant. La dérivée en un point est évaluée au regard des deux points l'entourant\n",
    "        \n",
    "        OUTPUT :  np.array\n",
    "        ------- \n",
    "            Retourne la dérivée de la fonction\n",
    "        AUTHOR : \n",
    "        --------\n",
    "            BRICE KENGNI ZANGUIM\n",
    "            kenzabri2@yahoo.com\n",
    "        \n",
    "        \"\"\"\n",
    "        if f is not None :\n",
    "            self.function = f\n",
    "        if h is not None : \n",
    "            self.h = h\n",
    "            \n",
    "        a = ( self.function[2:] - self.function[:-2] )/(2*self.h)\n",
    "        a = list(a)\n",
    "        a.insert(0,2*a[0]-a[1] )\n",
    "        a.insert(len(a), 2*a[-1]-a[-2])\n",
    "        return  np.array(a)\n",
    "    \n",
    "    def erreur( self, df_vraie , df_approx ) :\n",
    "        \"\"\"\n",
    "        DESCRIPTION : \n",
    "        ------------\n",
    "            Calcul l'errreur faite lors du calcul d'une dérivée approximative\n",
    "        \n",
    "        OUTPUT :  float\n",
    "        ------- \n",
    "            retourne la valeur de l'erreur\n",
    "            \n",
    "        AUTHOR : \n",
    "        --------\n",
    "            BRICE KENGNI ZANGUIM\n",
    "            kenzabri2@yahoo.com\n",
    "        \n",
    "        \"\"\"\n",
    "        \n",
    "        return np.sqrt( np.mean((np.array(df_vraie) - np.array(df_approx))**2) )"
   ]
  },
  {
   "cell_type": "markdown",
   "id": "cfec783d-45c4-4555-ad38-68634f49f85e",
   "metadata": {},
   "source": [
    "<h1> <strong> C - évaluation des fonctions et représentation graphique"
   ]
  },
  {
   "cell_type": "markdown",
   "id": "5eb2ff73-0b2e-4546-9a6e-c06f8004f581",
   "metadata": {},
   "source": [
    "<h2>\n",
    "    \n",
    "    Soit la fonction suivante"
   ]
  },
  {
   "cell_type": "code",
   "execution_count": 3,
   "id": "39d4c7ab-501d-4bd0-b5f4-225ab6a7ec92",
   "metadata": {},
   "outputs": [],
   "source": [
    "def f_function(t) :\n",
    "    return np.sin(2*np.pi*3*t) - np.cos(2*np.pi*5*t)\n",
    "\n",
    "\n",
    "def df_function( t ) :\n",
    "    return 2*np.pi*( 3*np.cos(2*np.pi*3*t)  + 5*np.sin(2*np.pi*5*t))"
   ]
  },
  {
   "cell_type": "code",
   "execution_count": 4,
   "id": "2ff5d25c-215d-419a-b771-ba3b7c5076b6",
   "metadata": {},
   "outputs": [],
   "source": [
    "t = np.linspace( 0 , 2 , 200 )"
   ]
  },
  {
   "cell_type": "code",
   "execution_count": 5,
   "id": "5e03d7e3-4655-482f-a21b-2e9378e4e3ca",
   "metadata": {},
   "outputs": [],
   "source": [
    "f = f_function( t )"
   ]
  },
  {
   "cell_type": "markdown",
   "id": "ba60d046-2780-4278-8411-20ecc468d119",
   "metadata": {},
   "source": [
    "<h2>\n",
    "    \n",
    "    Sa dérivée première analytique est "
   ]
  },
  {
   "cell_type": "code",
   "execution_count": 6,
   "id": "c2ad429f-3c1d-4ca0-9b79-52189f0a167d",
   "metadata": {},
   "outputs": [],
   "source": [
    "df = df_function( t )"
   ]
  },
  {
   "cell_type": "markdown",
   "id": "698a68aa-853e-4705-b1b3-90efc9d8e7b2",
   "metadata": {},
   "source": [
    "<h2>\n",
    "    \n",
    "    Les deux fonction se présentent comme suit graphiquement :"
   ]
  },
  {
   "cell_type": "code",
   "execution_count": 7,
   "id": "487f4466-fcaa-46da-844f-2d335e485f82",
   "metadata": {},
   "outputs": [
    {
     "ename": "TypeError",
     "evalue": "set_text() got an unexpected keyword argument 'size'",
     "output_type": "error",
     "traceback": [
      "\u001b[0;31m---------------------------------------------------------------------------\u001b[0m",
      "\u001b[0;31mTypeError\u001b[0m                                 Traceback (most recent call last)",
      "Cell \u001b[0;32mIn [7], line 7\u001b[0m\n\u001b[1;32m      5\u001b[0m ax[\u001b[38;5;241m0\u001b[39m]\u001b[38;5;241m.\u001b[39mset_ylabel(\u001b[38;5;124m\"\u001b[39m\u001b[38;5;124mAmplitude\u001b[39m\u001b[38;5;124m\"\u001b[39m)\n\u001b[1;32m      6\u001b[0m ax[\u001b[38;5;241m0\u001b[39m]\u001b[38;5;241m.\u001b[39mlegend()\n\u001b[0;32m----> 7\u001b[0m \u001b[43max\u001b[49m\u001b[43m[\u001b[49m\u001b[38;5;241;43m0\u001b[39;49m\u001b[43m]\u001b[49m\u001b[38;5;241;43m.\u001b[39;49m\u001b[43mtitle\u001b[49m\u001b[38;5;241;43m.\u001b[39;49m\u001b[43mset_text\u001b[49m\u001b[43m(\u001b[49m\u001b[38;5;124;43m\"\u001b[39;49m\u001b[38;5;124;43mFonction principale\u001b[39;49m\u001b[38;5;124;43m\"\u001b[39;49m\u001b[43m,\u001b[49m\u001b[43m \u001b[49m\u001b[43msize\u001b[49m\u001b[38;5;241;43m=\u001b[39;49m\u001b[38;5;241;43m18\u001b[39;49m\u001b[43m)\u001b[49m\n\u001b[1;32m     10\u001b[0m ax[\u001b[38;5;241m1\u001b[39m]\u001b[38;5;241m.\u001b[39mplot(t , df, color \u001b[38;5;241m=\u001b[39m \u001b[38;5;124m'\u001b[39m\u001b[38;5;124mgreen\u001b[39m\u001b[38;5;124m'\u001b[39m, lw  \u001b[38;5;241m=\u001b[39m \u001b[38;5;241m3\u001b[39m, label \u001b[38;5;241m=\u001b[39m \u001b[38;5;124m\"\u001b[39m\u001b[38;5;124mdérivée\u001b[39m\u001b[38;5;124m\"\u001b[39m)\n\u001b[1;32m     11\u001b[0m ax[\u001b[38;5;241m1\u001b[39m]\u001b[38;5;241m.\u001b[39mset_xlabel(\u001b[38;5;124m\"\u001b[39m\u001b[38;5;124mTemp (s)\u001b[39m\u001b[38;5;124m\"\u001b[39m, size\u001b[38;5;241m=\u001b[39m\u001b[38;5;241m18\u001b[39m)\n",
      "\u001b[0;31mTypeError\u001b[0m: set_text() got an unexpected keyword argument 'size'"
     ]
    },
    {
     "data": {
      "image/png": "[encoded data removed]",
      "text/plain": [
       "<Figure size 1200x400 with 2 Axes>"
      ]
     },
     "metadata": {},
     "output_type": "display_data"
    }
   ],
   "source": [
    "fig, ax = plt.subplots(1, 2, figsize = (12,4))\n",
    "\n",
    "ax[0].plot(t , f, color = 'blue', lw = 3 , label = \"Fonction\")\n",
    "ax[0].set_xlabel(\"Temp (s)\")\n",
    "ax[0].set_ylabel(\"Amplitude\")\n",
    "ax[0].legend()\n",
    "ax[0].title.set_text(\"Fonction principale\",)\n",
    "\n",
    "\n",
    "ax[1].plot(t , df, color = 'green', lw  = 3, label = \"dérivée\")\n",
    "ax[1].set_xlabel(\"Temp (s)\", size=18)\n",
    "ax[1].set_ylabel(\"Amplitude\", size=18)\n",
    "ax[1].legend()\n",
    "ax[1].title.set_text(\"Dérivée de la fonction\")\n",
    "\n",
    "plt.tight_layout()\n",
    "plt.show()"
   ]
  },
  {
   "cell_type": "markdown",
   "id": "e65a05d8-37bd-4c3b-af3d-38aca86f028b",
   "metadata": {},
   "source": [
    "<h1> <strong> D - Dérivées avant, arrière et centrée par la méthode des éléments finis"
   ]
  },
  {
   "cell_type": "markdown",
   "id": "2494ad5c-a1d7-47ce-aa94-14a8d21a3741",
   "metadata": {},
   "source": [
    "<h2>\n",
    "    \n",
    "    Commençons par définir l'objet qui nous permettra d'évaluer les dérivées"
   ]
  },
  {
   "cell_type": "code",
   "execution_count": null,
   "id": "8ed39b76-17ba-449e-b361-dfae1b934f23",
   "metadata": {},
   "outputs": [],
   "source": [
    "derive_object = DeriveDeFonctions( f , t[1] )"
   ]
  },
  {
   "cell_type": "markdown",
   "id": "30a27f28-1224-4a5a-9a2c-ff21e1a6c467",
   "metadata": {},
   "source": [
    "<h2>\n",
    "    \n",
    "    Evaluons à présent les dérivées"
   ]
  },
  {
   "cell_type": "code",
   "execution_count": null,
   "id": "6dd30d15-c3d0-4b00-a1fd-d02f34345b9d",
   "metadata": {},
   "outputs": [],
   "source": [
    "df1_avant = derive_object.derivee_avant_a_1_point()"
   ]
  },
  {
   "cell_type": "code",
   "execution_count": null,
   "id": "10d8ea10-d185-4a19-a73a-a3b899b0c9f2",
   "metadata": {},
   "outputs": [],
   "source": [
    "df1_arriere = derive_object.derivee_arrière_a_1_point()"
   ]
  },
  {
   "cell_type": "code",
   "execution_count": null,
   "id": "14edcff1-93c5-475c-9368-59a21c60c123",
   "metadata": {},
   "outputs": [],
   "source": [
    "df1_centre = derive_object.derivee_centrale_a_1_point()"
   ]
  },
  {
   "cell_type": "markdown",
   "id": "9fa2ceeb-d42b-4cc6-ad7e-246c8ad89901",
   "metadata": {},
   "source": [
    "<h1> <strong> E - Représentation graphique des dérivées"
   ]
  },
  {
   "cell_type": "code",
   "execution_count": null,
   "id": "93c49f0d-3b15-4af7-92bd-99687f922214",
   "metadata": {},
   "outputs": [],
   "source": [
    "plt.figure(figsize = (10,6))\n",
    "\n",
    "plt.plot(t , df , lw = 5 ,alpha = .5, color = \"black\" , label=\"Vraie dérivée\")\n",
    "plt.plot(t , df1_avant , lw = 3 ,alpha = 0.7, color = \"green\" , ls='dashed', label=\"Dérivée Avant\")\n",
    "plt.plot(t , df1_arriere , lw = 2 ,alpha = 0.8, color = \"red\" , ls='dotted', label=\"Dérivée Arrière\" )\n",
    "plt.plot(t , df1_centre , lw = 1.5 ,alpha = 0.9, color = \"blue\" , ls='dashdot', label=\"Dérivée Centrale\" )\n",
    "\n",
    "plt.xlabel( \"Temps (s)\", size = 18)\n",
    "plt.ylabel( \"Amplitude\", size = 18 )\n",
    "\n",
    "plt.legend(loc = 'best')\n",
    "plt.show()"
   ]
  },
  {
   "cell_type": "markdown",
   "id": "95ac5347-80d6-4a1c-a450-0f3b467b6df1",
   "metadata": {},
   "source": [
    "<h2>\n",
    "    \n",
    "    L'erreur éffectuée en approximant la vraie dérivée à l'une de ces dérivée finie est"
   ]
  },
  {
   "cell_type": "code",
   "execution_count": null,
   "id": "c31eb241-aa89-4fcb-8cee-3e08119bdc97",
   "metadata": {},
   "outputs": [],
   "source": [
    "derive_object.erreur(df , df1_arriere)"
   ]
  },
  {
   "cell_type": "code",
   "execution_count": null,
   "id": "fcf7e8de-90e3-4362-9ebe-8bda77a94f30",
   "metadata": {},
   "outputs": [],
   "source": [
    "derive_object.erreur(df , df1_avant)"
   ]
  },
  {
   "cell_type": "code",
   "execution_count": null,
   "id": "9a66ec31-96c2-4bf5-b020-a8ef858b445b",
   "metadata": {},
   "outputs": [],
   "source": [
    "derive_object.erreur(df , df1_centre)"
   ]
  },
  {
   "cell_type": "markdown",
   "id": "29f4df47-2aef-4692-9383-134d732ef2b9",
   "metadata": {},
   "source": [
    "<h1> <strong> E - Variation de l'erreur avec la taille d'échantillonage"
   ]
  },
  {
   "cell_type": "code",
   "execution_count": null,
   "id": "89d56197-d54e-4410-b7c1-e6ea21e06122",
   "metadata": {},
   "outputs": [],
   "source": [
    "erreur = {\"arrière\" :[],\n",
    "          \"avant\" : [],\n",
    "          \"centre\" : []\n",
    "        }\n",
    "\n",
    "N = range( 100 , 2000 , 20 )\n",
    "\n",
    "for der in [\"centre\", \"avant\", \"arrière\"] :\n",
    "    for n in N :\n",
    "        t = np.linspace( 0 , 2, n )\n",
    "        if der == \"centre\" :\n",
    "            df_approx = derive_object.derivee_centrale_a_1_point( f_function(t) , t[1] )\n",
    "        elif der == \"avant\" :\n",
    "            df_approx = derive_object.derivee_avant_a_1_point( f_function(t) , t[1] )\n",
    "        elif der == \"arrière\" :\n",
    "            df_approx = derive_object.derivee_arrière_a_1_point( f_function(t) , t[1] )\n",
    "        \n",
    "        erreur[der].append( derive_object.erreur( df_function(t) , df_approx ) )\n",
    "\n",
    "plt.figure(figsize = (10,6))\n",
    "\n",
    "plt.plot(N , erreur[\"avant\"] , lw = 4 ,alpha = 0.8, color = \"green\" , ls='dashed', label=\"Dérivée Avant\")\n",
    "plt.plot(N , erreur[\"arrière\"] , lw = 4 ,alpha = 0.8, color = \"red\" , ls='dotted', label=\"Dérivée Arrière\")\n",
    "plt.plot(N , erreur[\"centre\"] , lw = 4 ,alpha = 0.8, color = \"blue\" , ls='dashdot', label=\"Dérivée Centrale\")\n",
    "\n",
    "plt.xlabel( \"Taille échantillon (N)\", size = 18)\n",
    "plt.ylabel( \"Erreur\", size = 18 )\n",
    "\n",
    "plt.title( \"Variation de l'érreur avec la taille de l'échantillon\" , size =18 )\n",
    "plt.legend(loc =\"best\")\n",
    "plt.show()"
   ]
  },
  {
   "cell_type": "markdown",
   "id": "43e45fc1-d673-4181-968a-fa702e686af6",
   "metadata": {},
   "source": [
    "<h2>\n",
    "    \n",
    "    Comme on peut le remarquer, la dérivée centrale est celle qui donné le plus faible taux d'erreur. Ceci s'explique par le fait que la dérivée centrale est la moyenne des deux autres dérivées. La conséquence directe est que "
   ]
  },
  {
   "cell_type": "markdown",
   "id": "bdb330e8-485f-430b-b0ba-eb8a4274a24e",
   "metadata": {
    "tags": []
   },
   "source": [
    "---\n",
    "\n",
    "- ## <strong> Authors </strong>\n",
    "\n",
    " #### <ul> <p> - <strong><a href=\"https://www.linkedin.com/in/brice-kengni-zanguim/\" target=\"_blank\">Brice KENGNI ZANGUIM :</a> </strong></p> <ul> Artificial Intelligence Engeneer at home and holds a PhD in Nano-physic. His research focused on using <strong>Machine Learning, Deep Learning, Signal Processing, Natural langage Processing, Computer Vision and so one</strong> to figure out how the world behave and impact human cognition. Brice KENGNI ZANGUIM has been working at home on mastering his own AI projects in many domains while seeking for a position in a company. </ul></ul>\n",
    "\n",
    "\n",
    "---\n",
    "\n",
    "- ## <strong> Other Contributors </strong>\n",
    "\n",
    "#### <ul>None</ul>\n",
    "\n",
    "---\n",
    "\n",
    "- ## <strong> Change Log </strong>\n",
    "\n",
    "|  Date (DD-MM-YYYY) |  Version | Changed By  |  Change Description |  Purpose  |\n",
    "|---|---|---|---|---|\n",
    "| 13- 03 - 2023 | 2.0 | Brice KENGNI ZANGUIM | Final update | Mem,save |\n",
    "|-|-|-|-|\n",
    "|   |   |   |   |   |\n",
    "\n",
    "### <h3 align=\"center\"> © BKZ Corporation 2023. All rights reserved. <h3/>\n",
    "---"
   ]
  }
 ],
 "metadata": {
  "kernelspec": {
   "display_name": "Python 3 (ipykernel)",
   "language": "python",
   "name": "python3"
  },
  "language_info": {
   "codemirror_mode": {
    "name": "ipython",
    "version": 3
   },
   "file_extension": ".py",
   "mimetype": "text/x-python",
   "name": "python",
   "nbconvert_exporter": "python",
   "pygments_lexer": "ipython3",
   "version": "3.9.15"
  },
  "widgets": {
   "application/vnd.jupyter.widget-state+json": {
    "state": {},
    "version_major": 2,
    "version_minor": 0
   }
  }
 },
 "nbformat": 4,
 "nbformat_minor": 5
}
